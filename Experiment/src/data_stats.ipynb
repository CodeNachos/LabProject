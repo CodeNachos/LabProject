{
 "cells": [
  {
   "cell_type": "markdown",
   "id": "1e2a752d",
   "metadata": {},
   "source": [
    "# Experiment Data Analysis\n",
    "\n",
    "This notebook analyzes the data collected during experiment trials. \n",
    "\n",
    "---\n",
    "\n",
    "### In this notebook:\n",
    "- Data treatment\n",
    "- RT analysis\n",
    "- Summary statistics"
   ]
  },
  {
   "cell_type": "code",
   "execution_count": 1,
   "id": "a988d5f6",
   "metadata": {},
   "outputs": [],
   "source": [
    "import pandas as pd\n",
    "import numpy as np\n",
    "import seaborn as sns\n",
    "import scipy.stats as stats\n",
    "import matplotlib.pyplot as plt\n",
    "\n",
    "from pathlib import Path\n",
    "from brokenaxes import brokenaxes\n"
   ]
  },
  {
   "cell_type": "markdown",
   "id": "e5ad276f",
   "metadata": {},
   "source": [
    "---"
   ]
  },
  {
   "cell_type": "markdown",
   "id": "d1879da3",
   "metadata": {},
   "source": [
    "## Dataset Creation\n",
    "\n",
    "Missing responses (coded as RT = -1) will be excluded from analysis."
   ]
  },
  {
   "cell_type": "code",
   "execution_count": 2,
   "id": "fe6ac116",
   "metadata": {},
   "outputs": [
    {
     "name": "stdout",
     "output_type": "stream",
     "text": [
      "> Found 27 trial data files\n",
      "> Concatenating data...\n",
      "> Cleaning data...\n",
      "\n",
      "----------------------------------------\n",
      "> Experiment data frame info:\n",
      "\n",
      "<class 'pandas.core.frame.DataFrame'>\n",
      "RangeIndex: 810 entries, 0 to 809\n",
      "Data columns (total 3 columns):\n",
      " #   Column    Non-Null Count  Dtype   \n",
      "---  ------    --------------  -----   \n",
      " 0   target    810 non-null    string  \n",
      " 1   modality  810 non-null    category\n",
      " 2   RT        708 non-null    float64 \n",
      "dtypes: category(1), float64(1), string(1)\n",
      "memory usage: 13.8 KB\n",
      "\n",
      "----------------------------------------\n",
      "> Experiment data frame head:\n"
     ]
    },
    {
     "data": {
      "text/html": [
       "<div>\n",
       "<style scoped>\n",
       "    .dataframe tbody tr th:only-of-type {\n",
       "        vertical-align: middle;\n",
       "    }\n",
       "\n",
       "    .dataframe tbody tr th {\n",
       "        vertical-align: top;\n",
       "    }\n",
       "\n",
       "    .dataframe thead th {\n",
       "        text-align: right;\n",
       "    }\n",
       "</style>\n",
       "<table border=\"1\" class=\"dataframe\">\n",
       "  <thead>\n",
       "    <tr style=\"text-align: right;\">\n",
       "      <th></th>\n",
       "      <th>target</th>\n",
       "      <th>modality</th>\n",
       "      <th>RT</th>\n",
       "    </tr>\n",
       "  </thead>\n",
       "  <tbody>\n",
       "    <tr>\n",
       "      <th>0</th>\n",
       "      <td>68-scenes\\library-68\\Fairfield_Pub_Library_A.jpg</td>\n",
       "      <td>low</td>\n",
       "      <td>5.803473</td>\n",
       "    </tr>\n",
       "    <tr>\n",
       "      <th>1</th>\n",
       "      <td>68-scenes\\bridge-68\\beach_07_06_flickr.jpg</td>\n",
       "      <td>control</td>\n",
       "      <td>4.804812</td>\n",
       "    </tr>\n",
       "    <tr>\n",
       "      <th>2</th>\n",
       "      <td>68-scenes\\skyscraper-68\\a462057.jpg</td>\n",
       "      <td>low</td>\n",
       "      <td>5.242834</td>\n",
       "    </tr>\n",
       "    <tr>\n",
       "      <th>3</th>\n",
       "      <td>68-scenes\\house-68\\house_06_09_google.jpg</td>\n",
       "      <td>low</td>\n",
       "      <td>4.538618</td>\n",
       "    </tr>\n",
       "    <tr>\n",
       "      <th>4</th>\n",
       "      <td>68-scenes\\castle-68\\FreeFoto_castle_1_22.jpg</td>\n",
       "      <td>control</td>\n",
       "      <td>2.914942</td>\n",
       "    </tr>\n",
       "  </tbody>\n",
       "</table>\n",
       "</div>"
      ],
      "text/plain": [
       "                                             target modality        RT\n",
       "0  68-scenes\\library-68\\Fairfield_Pub_Library_A.jpg      low  5.803473\n",
       "1        68-scenes\\bridge-68\\beach_07_06_flickr.jpg  control  4.804812\n",
       "2               68-scenes\\skyscraper-68\\a462057.jpg      low  5.242834\n",
       "3         68-scenes\\house-68\\house_06_09_google.jpg      low  4.538618\n",
       "4      68-scenes\\castle-68\\FreeFoto_castle_1_22.jpg  control  2.914942"
      ]
     },
     "execution_count": 2,
     "metadata": {},
     "output_type": "execute_result"
    }
   ],
   "source": [
    "dtype_spec = {\n",
    "    'target': 'string',\n",
    "    'modality': 'category',  # or 'string'\n",
    "    'RT': 'float64'\n",
    "}\n",
    "\n",
    "trial_data_folder = Path(\"../res/expdata/trials/\").resolve()\n",
    "\n",
    "trial_files = list(trial_data_folder.glob(\"subject_*.csv\"))\n",
    "\n",
    "print(f\"> Found {len(trial_files)} trial data files\")\n",
    "\n",
    "trials_df = [pd.read_csv(trial, dtype=dtype_spec) for trial in trial_files]\n",
    "\n",
    "print(\"> Concatenating data...\")\n",
    "\n",
    "experiment_df = pd.concat(trials_df, ignore_index=True)\n",
    "\n",
    "print(\"> Cleaning data...\")\n",
    "\n",
    "experiment_df['RT'] = np.where(experiment_df['RT'] == -1, np.nan, experiment_df['RT'])\n",
    "\n",
    "print(\"\\n\" + \"-\"*40 + \"\\n\"   + \"> Experiment data frame info:\\n\")\n",
    "experiment_df.info()\n",
    "\n",
    "print(\"\\n\" + \"-\"*40 + \"\\n\"   + \"> Experiment data frame head:\")\n",
    "experiment_df.head()"
   ]
  },
  {
   "cell_type": "markdown",
   "id": "24ea7a50",
   "metadata": {},
   "source": [
    "---"
   ]
  },
  {
   "cell_type": "markdown",
   "id": "ff397aef",
   "metadata": {},
   "source": [
    "## General Analysis"
   ]
  },
  {
   "cell_type": "code",
   "execution_count": 3,
   "id": "aab119b9",
   "metadata": {},
   "outputs": [
    {
     "data": {
      "image/png": "[encoded data removed]",
      "text/plain": [
       "<Figure size 1000x600 with 3 Axes>"
      ]
     },
     "metadata": {},
     "output_type": "display_data"
    },
    {
     "data": {
      "text/html": [
       "<div>\n",
       "<style scoped>\n",
       "    .dataframe tbody tr th:only-of-type {\n",
       "        vertical-align: middle;\n",
       "    }\n",
       "\n",
       "    .dataframe tbody tr th {\n",
       "        vertical-align: top;\n",
       "    }\n",
       "\n",
       "    .dataframe thead th {\n",
       "        text-align: right;\n",
       "    }\n",
       "</style>\n",
       "<table border=\"1\" class=\"dataframe\">\n",
       "  <thead>\n",
       "    <tr style=\"text-align: right;\">\n",
       "      <th></th>\n",
       "      <th>count</th>\n",
       "      <th>mean</th>\n",
       "      <th>median</th>\n",
       "      <th>std</th>\n",
       "    </tr>\n",
       "    <tr>\n",
       "      <th>modality</th>\n",
       "      <th></th>\n",
       "      <th></th>\n",
       "      <th></th>\n",
       "      <th></th>\n",
       "    </tr>\n",
       "  </thead>\n",
       "  <tbody>\n",
       "    <tr>\n",
       "      <th>high</th>\n",
       "      <td>145</td>\n",
       "      <td>3.183131</td>\n",
       "      <td>3.151553</td>\n",
       "      <td>1.030476</td>\n",
       "    </tr>\n",
       "    <tr>\n",
       "      <th>medium</th>\n",
       "      <td>142</td>\n",
       "      <td>3.277531</td>\n",
       "      <td>3.167772</td>\n",
       "      <td>1.123002</td>\n",
       "    </tr>\n",
       "    <tr>\n",
       "      <th>medium-low</th>\n",
       "      <td>144</td>\n",
       "      <td>3.266979</td>\n",
       "      <td>3.219503</td>\n",
       "      <td>1.000522</td>\n",
       "    </tr>\n",
       "    <tr>\n",
       "      <th>low</th>\n",
       "      <td>140</td>\n",
       "      <td>3.207091</td>\n",
       "      <td>3.161887</td>\n",
       "      <td>1.032640</td>\n",
       "    </tr>\n",
       "    <tr>\n",
       "      <th>control</th>\n",
       "      <td>137</td>\n",
       "      <td>3.231786</td>\n",
       "      <td>2.992054</td>\n",
       "      <td>1.034018</td>\n",
       "    </tr>\n",
       "  </tbody>\n",
       "</table>\n",
       "</div>"
      ],
      "text/plain": [
       "            count      mean    median       std\n",
       "modality                                       \n",
       "high          145  3.183131  3.151553  1.030476\n",
       "medium        142  3.277531  3.167772  1.123002\n",
       "medium-low    144  3.266979  3.219503  1.000522\n",
       "low           140  3.207091  3.161887  1.032640\n",
       "control       137  3.231786  2.992054  1.034018"
      ]
     },
     "execution_count": 3,
     "metadata": {},
     "output_type": "execute_result"
    }
   ],
   "source": [
    "# Compute mean, median, std, and count\n",
    "modality_order = ['high', 'medium', 'medium-low', 'low', 'control']\n",
    "\n",
    "stats_df = (\n",
    "    experiment_df.groupby('modality', observed=False)['RT']\n",
    "    .agg(['count', 'mean', 'median', 'std', 'sem'])\n",
    "    .reindex(modality_order)\n",
    ")\n",
    "\n",
    "# Set up colors\n",
    "palette = sns.color_palette(\"Set2\", n_colors=len(modality_order))[:5]\n",
    "\n",
    "# Set up broken axis\n",
    "fig = plt.figure(figsize=(10, 6))\n",
    "bax = brokenaxes(ylims=((0, .05), (2.85, 3.45)), hspace=0.02)\n",
    "\n",
    "# Plot bars manually with error bars\n",
    "x = np.arange(len(modality_order))\n",
    "bax.bar(\n",
    "    x,\n",
    "    stats_df['mean'],\n",
    "    yerr=stats_df['sem'],\n",
    "    capsize=5,\n",
    "    color=palette,\n",
    "    tick_label=modality_order,\n",
    "    edgecolor='black'\n",
    ")\n",
    "\n",
    "# Customize labels and title\n",
    "bax.set_xlabel(\"Modality\", labelpad=25)\n",
    "bax.set_ylabel(\"RT (seconds)\")\n",
    "bax.set_title(\"Reaction Time (RT) by Modality\")\n",
    "plt.show()\n",
    "\n",
    "stats_df[['count', 'mean', 'median', 'std']]"
   ]
  },
  {
   "cell_type": "markdown",
   "id": "f9d27ee4",
   "metadata": {},
   "source": [
    "---"
   ]
  },
  {
   "cell_type": "markdown",
   "id": "f199ce98",
   "metadata": {},
   "source": [
    "## ANOVA Test"
   ]
  },
  {
   "cell_type": "code",
   "execution_count": 4,
   "id": "a7ef2043",
   "metadata": {},
   "outputs": [
    {
     "name": "stdout",
     "output_type": "stream",
     "text": [
      "ANOVA result: F = 0.2067, p = 0.9347\n"
     ]
    }
   ],
   "source": [
    "\n",
    "control_df = experiment_df[experiment_df['modality'] == 'control']['RT'].dropna()\n",
    "low_df = experiment_df[experiment_df['modality'] == 'low']['RT'].dropna()\n",
    "medium_df = experiment_df[experiment_df['modality'] == 'medium']['RT'].dropna()\n",
    "mediumlow_df = experiment_df[experiment_df['modality'] == 'medium-low']['RT'].dropna()\n",
    "high_df = experiment_df[experiment_df['modality'] == 'high']['RT'].dropna()\n",
    "\n",
    "# Run ANOVA\n",
    "f_stat, p_value = stats.f_oneway(low_df, mediumlow_df, medium_df, high_df, control_df)\n",
    "\n",
    "print(f\"ANOVA result: F = {f_stat:.4f}, p = {p_value:.4f}\")"
   ]
  },
  {
   "cell_type": "code",
   "execution_count": 9,
   "id": "aaf751a7",
   "metadata": {},
   "outputs": [
    {
     "data": {
      "image/png": "[encoded data removed]",
      "text/plain": [
       "<Figure size 2000x400 with 5 Axes>"
      ]
     },
     "metadata": {},
     "output_type": "display_data"
    }
   ],
   "source": [
    "fig, axes = plt.subplots(1, 5, figsize=(20, 4), sharey=True)\n",
    "bins = 10\n",
    "\n",
    "# Plot each histogram\n",
    "axes[0].hist(control_df, bins=bins, edgecolor='black')\n",
    "axes[0].set_title(\"Control\")\n",
    "axes[0].set_xlabel(\"RT (s)\")\n",
    "axes[0].set_ylabel(\"Frequency\")\n",
    "\n",
    "axes[1].hist(low_df, bins=bins, edgecolor='black')\n",
    "axes[1].set_title(\"Low\")\n",
    "axes[1].set_xlabel(\"RT (s)\")\n",
    "\n",
    "axes[2].hist(mediumlow_df, bins=bins, edgecolor='black')\n",
    "axes[2].set_title(\"Medium-Low\")\n",
    "axes[2].set_xlabel(\"RT (s)\")\n",
    "\n",
    "axes[3].hist(medium_df, bins=bins, edgecolor='black')\n",
    "axes[3].set_title(\"Medium\")\n",
    "axes[3].set_xlabel(\"RT (s)\")\n",
    "\n",
    "axes[4].hist(high_df, bins=bins, edgecolor='black')\n",
    "axes[4].set_title(\"High\")\n",
    "axes[4].set_xlabel(\"RT (s)\")\n",
    "\n",
    "# Final layout tweaks\n",
    "plt.suptitle(\"Reaction Time (RT) Histogram by Modality\")\n",
    "plt.tight_layout()\n",
    "plt.show()"
   ]
  },
  {
   "cell_type": "code",
   "execution_count": 10,
   "id": "0802d833",
   "metadata": {},
   "outputs": [
    {
     "name": "stdout",
     "output_type": "stream",
     "text": [
      "\n",
      "----------------------------------------\n",
      "> T-tests vs control:\n",
      "T-test low vs control: t = -0.1989, p = 0.8425\n",
      "T-test medium-low vs control: t = 0.2897, p = 0.7723\n",
      "T-test medium vs control: t = 0.3541, p = 0.7235\n",
      "T-test high vs control: t = -0.3956, p = 0.6927\n"
     ]
    }
   ],
   "source": [
    "from scipy.stats import ttest_ind\n",
    "\n",
    "# Define a helper function for t-test and print results\n",
    "def run_ttest(modality_name, control_df, experiment_df):\n",
    "    modality_df = experiment_df[experiment_df['modality'] == modality_name]['RT'].dropna()\n",
    "    t_stat, p_val = ttest_ind(modality_df, control_df, equal_var=False)  # Welch's t-test\n",
    "    print(f\"T-test {modality_name} vs control: t = {t_stat:.4f}, p = {p_val:.4f}\")\n",
    "\n",
    "# Run the t-tests\n",
    "print(\"\\n\" + \"-\"*40 + \"\\n\" + \"> T-tests vs control:\")\n",
    "for modality in ['low', 'medium-low', 'medium', 'high']:\n",
    "    run_ttest(modality, control_df, experiment_df)\n"
   ]
  }
 ],
 "metadata": {
  "kernelspec": {
   "display_name": "Python 3",
   "language": "python",
   "name": "python3"
  },
  "language_info": {
   "codemirror_mode": {
    "name": "ipython",
    "version": 3
   },
   "file_extension": ".py",
   "mimetype": "text/x-python",
   "name": "python",
   "nbconvert_exporter": "python",
   "pygments_lexer": "ipython3",
   "version": "3.10.11"
  }
 },
 "nbformat": 4,
 "nbformat_minor": 5
}
